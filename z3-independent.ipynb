{
 "nbformat": 4,
 "nbformat_minor": 2,
 "metadata": {
  "language_info": {
   "name": "python",
   "codemirror_mode": {
    "name": "ipython",
    "version": 3
   },
   "version": "3.6.8-final"
  },
  "orig_nbformat": 2,
  "file_extension": ".py",
  "mimetype": "text/x-python",
  "name": "python",
  "npconvert_exporter": "python",
  "pygments_lexer": "ipython3",
  "version": 3,
  "kernelspec": {
   "name": "28bd451f-2b86-42dc-97f3-79553a06e4b8",
   "display_name": "'Python Interactive'"
  }
 },
 "cells": [
  {
   "cell_type": "code",
   "execution_count": 6,
   "metadata": {},
   "outputs": [],
   "source": [
    "import itertools\n",
    "import z3 "
   ]
  },
  {
   "cell_type": "markdown",
   "metadata": {},
   "source": [
    "The input is a description of the graph. First line has a number denoting the number\n",
    "of nodes. Then lines of pair of numbers denoting the edges.\n",
    "Note that we assume that the nodes are numbered from 0 to n-1"
   ],
   "execution_count": null,
   "outputs": []
  },
  {
   "cell_type": "code",
   "execution_count": 7,
   "metadata": {},
   "outputs": [],
   "source": [
    "f=open(\"graph1.txt\",\"r\")\n",
    "n=int((f.readline()).split()[0])\n",
    "rest=f.read()\n",
    "lines=rest.splitlines()\n",
    "edges=[tuple(map(int,line.split())) for line in lines]\n",
    "\n",
    ""
   ]
  },
  {
   "cell_type": "markdown",
   "metadata": {},
   "source": [
    "Now edges contains all the edges as pairs of connected nodes.\n",
    "Next we create the z3 variables. In this exercise we are looking for an independent\n",
    "set of size 4 (variable k)"
   ],
   "execution_count": null,
   "outputs": []
  },
  {
   "cell_type": "code",
   "execution_count": 8,
   "metadata": {},
   "outputs": [],
   "source": [
    "\n",
    "vars=[None]*n\n",
    "\n",
    "for i in range(0,n):\n",
    "   vars[i]= z3.Bool(\"x\"+str(i))\n",
    "k=4\n",
    "comb=n-k+1"
   ]
  },
  {
   "cell_type": "markdown",
   "metadata": {},
   "source": [
    "We create the solver and add the clauses: all combinations of 4 variables with\n",
    "the constraint that no two variables representing connected nodes can be true\n",
    "at the same time"
   ],
   "execution_count": null,
   "outputs": []
  },
  {
   "cell_type": "code",
   "execution_count": 9,
   "metadata": {},
   "outputs": [],
   "source": [
    "\n",
    "solver=z3.Solver()\n",
    "for c in itertools.combinations(vars,comb):\n",
    "   solver.add(z3.Or(c))\n",
    "for (s,e) in edges:\n",
    "   solver.add(z3.Or(z3.Not(vars[s]),z3.Not(vars[e])))\n",
    ""
   ]
  },
  {
   "cell_type": "markdown",
   "metadata": {},
   "source": [
    "Collect and print the results."
   ]
  },
  {
   "cell_type": "code",
   "execution_count": 10,
   "metadata": {},
   "outputs": [
    {
     "output_type": "stream",
     "name": "stdout",
     "text": "Found and IS of size 4\nx1\nx3\nx4\nx7\n"
    }
   ],
   "source": [
    "if(solver.check()==z3.sat):\n",
    "    print(\"Found an IS of size {}\".format(k))\n",
    "    m=solver.model()\n",
    "    for d in m.decls():\n",
    "        if(m[d]==True):\n",
    "            print(d.name())\n",
    "\n",
    "else:\n",
    "   print(\"No IS of size {} exits\".format(k))\n"
   ]
  }
 ]
}